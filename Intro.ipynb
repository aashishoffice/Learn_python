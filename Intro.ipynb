{
 "cells": [
  {
   "cell_type": "code",
   "execution_count": 3,
   "id": "b48d6b30",
   "metadata": {},
   "outputs": [
    {
     "name": "stdout",
     "output_type": "stream",
     "text": [
      "Hello world!\n"
     ]
    }
   ],
   "source": [
    "#intro-datatypes-functions-files-decision-oops-advance\n",
    "#Python Program to Print Hello world!\n",
    "\n",
    "print(\"Hello world!\")"
   ]
  },
  {
   "cell_type": "code",
   "execution_count": 6,
   "id": "8119ba02",
   "metadata": {},
   "outputs": [
    {
     "name": "stdout",
     "output_type": "stream",
     "text": [
      "15\n"
     ]
    }
   ],
   "source": [
    "#Python Program to Add Two Numbers\n",
    "var1=5\n",
    "var2= 10\n",
    "\n",
    "var3=var1+var2\n",
    "\n",
    "print(var3)"
   ]
  },
  {
   "cell_type": "code",
   "execution_count": 17,
   "id": "3a4e64fb",
   "metadata": {},
   "outputs": [
    {
     "name": "stdout",
     "output_type": "stream",
     "text": [
      "enter a number to find square : 33\n",
      "the square of entered number is:  1089\n"
     ]
    }
   ],
   "source": [
    "#Python Program to find square of the number\n",
    "a=int(input(\"enter a number to find square : \"))\n",
    "\n",
    "print(\"the square of entered number is: \", a*a)"
   ]
  },
  {
   "cell_type": "code",
   "execution_count": 2,
   "id": "b205fc1a",
   "metadata": {},
   "outputs": [
    {
     "name": "stdout",
     "output_type": "stream",
     "text": [
      "enter a number to find square root : 25\n",
      "square root of 8:  5.0\n"
     ]
    }
   ],
   "source": [
    "#Python Program to find square of the number\n",
    "\n",
    "num=int(input(\"enter a number to find square root : \"))\n",
    "numsqrt=num**0.5\n",
    "print(\"square root of 8: \",numsqrt)"
   ]
  },
  {
   "cell_type": "code",
   "execution_count": 9,
   "id": "50d901be",
   "metadata": {},
   "outputs": [
    {
     "name": "stdout",
     "output_type": "stream",
     "text": [
      "enter side 1 : 5\n",
      "enter side 2 : 6\n",
      "enter side 3 : 7\n",
      "Area of triangle for given value is :  14.696938456699069\n"
     ]
    }
   ],
   "source": [
    "#Python Program to find Area of triangle\n",
    "a=float(input(\"enter side 1 : \"))\n",
    "b=float(input(\"enter side 2 : \"))\n",
    "c=float(input(\"enter side 3 : \"))\n",
    "s=(a+b+c)/2\n",
    "area=(s*(s-a)*(s-b)*(s-c))**0.5\n",
    "print(\"Area of triangle for given value is : \" ,area)"
   ]
  },
  {
   "cell_type": "code",
   "execution_count": 12,
   "id": "1d369704",
   "metadata": {},
   "outputs": [
    {
     "name": "stdout",
     "output_type": "stream",
     "text": [
      "enter number 1 : 1\n",
      "enter number 2 : 5\n",
      "enter number 3 : 6\n",
      "The solution are (-3+0j) and (-2+0j)\n"
     ]
    }
   ],
   "source": [
    "#Python Program to find quadratic equation\n",
    "# formula for quadratic equation (-b ± (b ** 2 - 4 * a * c) ** 0.5) / (2 * a)\n",
    "import cmath\n",
    "a=float(input(\"enter number 1 : \"))\n",
    "b=float(input(\"enter number 2 : \"))\n",
    "c=float(input(\"enter number 3 : \"))\n",
    "d= (b**2)-(4*a*c)\n",
    "sol1=(-b-cmath.sqrt(d))/(2*a)\n",
    "sol2=(-b+cmath.sqrt(d))/(2*a)\n",
    "\n",
    "print('The solution are {0} and {1}'.format(sol1,sol2))"
   ]
  },
  {
   "cell_type": "code",
   "execution_count": 13,
   "id": "8a8a1a6f",
   "metadata": {},
   "outputs": [
    {
     "name": "stdout",
     "output_type": "stream",
     "text": [
      "enter number 1 : 10\n",
      "enter number 2 : 5\n",
      "value of number 1  befor swapping 10.0\n",
      "value of number 2  befor swapping 5.0\n",
      "value of number 1  after swapping 5.0\n",
      "value of number 2  after swapping 10.0\n"
     ]
    }
   ],
   "source": [
    "#Python Program to Swap two number\n",
    "a=float(input(\"enter number 1 : \"))\n",
    "b=float(input(\"enter number 2 : \"))\n",
    "print(\"value of number 1  befor swapping\",a)\n",
    "print(\"value of number 2  befor swapping\",b)\n",
    "temp=a\n",
    "a=b\n",
    "b=temp\n",
    "print(\"value of number 1  after swapping\",a)\n",
    "print(\"value of number 2  after swapping\",b)"
   ]
  },
  {
   "cell_type": "code",
   "execution_count": 26,
   "id": "67c86322",
   "metadata": {},
   "outputs": [
    {
     "name": "stdout",
     "output_type": "stream",
     "text": [
      "87\n"
     ]
    }
   ],
   "source": [
    "## Program to generate a random number between 0 and 100\n",
    "import random as r\n",
    "print(r.randint(0,100))"
   ]
  },
  {
   "cell_type": "code",
   "execution_count": 37,
   "id": "3c702648",
   "metadata": {},
   "outputs": [
    {
     "name": "stdout",
     "output_type": "stream",
     "text": [
      "enter value in kms : 10\n",
      "value in Miles for given kilometers is :  6.2137119223733395\n"
     ]
    }
   ],
   "source": [
    "#Python Program to Convert Kilometers to Miles\n",
    "a=float(input(\"enter value in kms : \"))\n",
    "convac_fac=1.609344\n",
    "miles=a/convac_fac\n",
    "print(\"value in Miles for given kilometers is : \", miles)"
   ]
  },
  {
   "cell_type": "code",
   "execution_count": 41,
   "id": "a94dbcd9",
   "metadata": {},
   "outputs": [
    {
     "name": "stdout",
     "output_type": "stream",
     "text": [
      "enter value in celcius : 37\n",
      "value in fahrenheit is :  98.60000000000001\n"
     ]
    }
   ],
   "source": [
    "#Python Program to Convert celsius to fahrenheit\n",
    "c=float(input(\"enter value in celcius : \"))\n",
    "\n",
    "f=(c*(9/5)+32)\n",
    "\n",
    "print(\"value in fahrenheit is : \", f)"
   ]
  },
  {
   "cell_type": "code",
   "execution_count": 42,
   "id": "3e9bb8f4",
   "metadata": {},
   "outputs": [
    {
     "name": "stdout",
     "output_type": "stream",
     "text": [
      "Python\n",
      "is easy to learn.\n",
      "\n",
      "Python is easy to learn.\n"
     ]
    }
   ],
   "source": [
    "#Python Program to Print Output Without a Newline\n",
    "# print each statement on a new line\n",
    "print(\"Python\")\n",
    "print(\"is easy to learn.\")\n",
    "\n",
    "# new line\n",
    "print()\n",
    "\n",
    "# print both the statements on a single line\n",
    "print(\"Python\", end=\" \")\n",
    "print(\"is easy to learn.\")"
   ]
  }
 ],
 "metadata": {
  "kernelspec": {
   "display_name": "Python 3 (ipykernel)",
   "language": "python",
   "name": "python3"
  },
  "language_info": {
   "codemirror_mode": {
    "name": "ipython",
    "version": 3
   },
   "file_extension": ".py",
   "mimetype": "text/x-python",
   "name": "python",
   "nbconvert_exporter": "python",
   "pygments_lexer": "ipython3",
   "version": "3.9.12"
  }
 },
 "nbformat": 4,
 "nbformat_minor": 5
}
