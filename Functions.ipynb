{
 "cells": [
  {
   "cell_type": "markdown",
   "id": "6d919378",
   "metadata": {},
   "source": [
    "# In this chapter we will learn Functions\n",
    "* Below are the questions to solve*\n"
   ]
  },
  {
   "cell_type": "markdown",
   "id": "8ae09dfb",
   "metadata": {},
   "source": [
    "**1) Write Python Program to Display Powers of 2 Using Anonymous Function**\n"
   ]
  },
  {
   "cell_type": "code",
   "execution_count": 6,
   "id": "9ba70eed",
   "metadata": {},
   "outputs": [
    {
     "name": "stdout",
     "output_type": "stream",
     "text": [
      "printing the power of 2 for:  0\n",
      "printing the power of 2 for:  1\n",
      "printing the power of 2 for:  4\n",
      "printing the power of 2 for:  9\n",
      "printing the power of 2 for:  16\n",
      "printing the power of 2 for:  25\n",
      "printing the power of 2 for:  36\n",
      "printing the power of 2 for:  49\n",
      "printing the power of 2 for:  64\n",
      "printing the power of 2 for:  81\n"
     ]
    }
   ],
   "source": [
    "# 2 power of numbers in range 1 to 10 without function\n",
    "\n",
    "num= 10\n",
    "\n",
    "for i in range(num):\n",
    "    print(\"printing the power of 2 for: \", i*i)"
   ]
  },
  {
   "cell_type": "code",
   "execution_count": 8,
   "id": "12ac5fb8",
   "metadata": {},
   "outputs": [
    {
     "name": "stdout",
     "output_type": "stream",
     "text": [
      "The total terms are: 10\n",
      "2 raised to power 0 is 1\n",
      "2 raised to power 1 is 2\n",
      "2 raised to power 2 is 4\n",
      "2 raised to power 3 is 8\n",
      "2 raised to power 4 is 16\n",
      "2 raised to power 5 is 32\n",
      "2 raised to power 6 is 64\n",
      "2 raised to power 7 is 128\n",
      "2 raised to power 8 is 256\n",
      "2 raised to power 9 is 512\n"
     ]
    }
   ],
   "source": [
    "# 2 power of numbers in range 1 to 10 with lambda function\n",
    "\n",
    "num=10\n",
    "result= list(map(lambda x: 2** x, range(num)))\n",
    "print(\"The total terms are:\",num)\n",
    "for i in range(num):\n",
    "    print(\"2 raised to power\",i,\"is\", result[i])"
   ]
  },
  {
   "cell_type": "markdown",
   "id": "8427f453",
   "metadata": {},
   "source": [
    "**2) Python Program to Find Numbers Divisible by Another Number**\n",
    "\n",
    "*In the program below, we have used anonymous (lambda) function inside the filter() built-in function to find all the numbers divisible by 13 in the list.*\n"
   ]
  },
  {
   "cell_type": "code",
   "execution_count": 10,
   "id": "5dfe2843",
   "metadata": {},
   "outputs": [
    {
     "name": "stdout",
     "output_type": "stream",
     "text": [
      "The number that are divisible by 13 from the given list is :  [65, 39, 221]\n"
     ]
    }
   ],
   "source": [
    "# Take a list of numbers\n",
    "my_list = [12, 65, 54, 39, 102, 339, 221,]\n",
    "result = list(filter(lambda x: (x%13==0), my_list))\n",
    "\n",
    "print(\"The number that are divisible by 13 from the given list is : \", result)"
   ]
  }
 ],
 "metadata": {
  "kernelspec": {
   "display_name": "Python 3 (ipykernel)",
   "language": "python",
   "name": "python3"
  },
  "language_info": {
   "codemirror_mode": {
    "name": "ipython",
    "version": 3
   },
   "file_extension": ".py",
   "mimetype": "text/x-python",
   "name": "python",
   "nbconvert_exporter": "python",
   "pygments_lexer": "ipython3",
   "version": "3.9.12"
  }
 },
 "nbformat": 4,
 "nbformat_minor": 5
}
